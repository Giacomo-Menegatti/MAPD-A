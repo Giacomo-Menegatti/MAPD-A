{
 "cells": [
  {
   "cell_type": "markdown",
   "metadata": {},
   "source": [
    "# SAP-1 Loader using firmata\n",
    "The code is read from a .txt file in the same folder and it must not have empty lines"
   ]
  },
  {
   "cell_type": "code",
   "execution_count": 66,
   "metadata": {},
   "outputs": [],
   "source": [
    "program_file = 'triangular.txt'\n",
    "program = {'CODE' : [], 'VALUE' : []}\n",
    "\n",
    "assembly = {'NOP': 0x0, 'LDA': 0x1, 'ADD': 0x2,\n",
    "             'SUB': 0x3, 'STA': 0x4, 'LDI': 0x5,\n",
    "             'JMP': 0x6, 'JC':0x7, 'JZ':0x8,\n",
    "             'OUT': 0xE, 'HLT':0xF}\n",
    "\n",
    "PROGRAM_LEN = 16\n"
   ]
  },
  {
   "cell_type": "markdown",
   "metadata": {},
   "source": [
    "### Reading and interpreting the code"
   ]
  },
  {
   "cell_type": "code",
   "execution_count": 67,
   "metadata": {},
   "outputs": [
    {
     "name": "stdout",
     "output_type": "stream",
     "text": [
      "0x0 : LDI 0x1 \t 0x51 \t 01010001 \n",
      "0x1 : STA 0xE \t 0x4E \t 01001110 \n",
      "0x2 : LDI 0x0 \t 0x50 \t 01010000 \n",
      "0x3 : OUT 0x0 \t 0xE0 \t 11100000 \n",
      "0x4 : ADD 0xE \t 0x2E \t 00101110 \n",
      "0x5 : JC 0x0 \t 0x70 \t 01110000 \n",
      "0x6 : STA 0xF \t 0x4F \t 01001111 \n",
      "0x7 : LDI 0x1 \t 0x51 \t 01010001 \n",
      "0x8 : ADD 0xE \t 0x2E \t 00101110 \n",
      "0x9 : STA 0xE \t 0x4E \t 01001110 \n",
      "0xA : LDA 0xF \t 0x1F \t 00011111 \n",
      "0xB : JMP 0x3 \t 0x63 \t 01100011 \n",
      "0xC : 0x00 \t 0x00 \t 00000000 \n",
      "0xD : 0x00 \t 0x00 \t 00000000 \n",
      "0xE : 0x00 \t 0x00 \t 00000000 \n",
      "0xF : 0x00 \t 0x00 \t 00000000 \n"
     ]
    }
   ],
   "source": [
    "def printProgram():\n",
    "  for i in range(PROGRAM_LEN):\n",
    "    print(f'0x{i:0X} : {program[\"CODE\"][i]} \\t 0x{program[\"VALUE\"][i]:02X} \\t {program[\"VALUE\"][i]:08b} ')\n",
    "\n",
    "\n",
    "\n",
    "with open(program_file) as f:\n",
    "  lines = f.readlines()\n",
    "  while len(lines) < PROGRAM_LEN:\n",
    "    lines.append('0 \\n') #Append zeros if there are missing lines\n",
    "\n",
    "  for l in lines:\n",
    "    l = l.strip() # Removing any white space and newline\n",
    "    data = l.split()  #split command and values\n",
    "\n",
    "    if not assembly.get(data[0]) == None: #If it is in the dictionary it is a command\n",
    "\n",
    "      if data[0]=='NOP' or data[0]=='HLT' or data[0]=='OUT': #Commands without values (0 by default)\n",
    "        program['CODE'].append(f'{data[0]} 0x{0:0X}')\n",
    "        program['VALUE'].append(assembly[data[0]]*0x10 + 0x0)\n",
    "      else:                                                   #Commands with a value\n",
    "        value = int(data[1], PROGRAM_LEN)  \n",
    "        program['CODE'].append(f'{data[0]} 0x{value:0X}')\n",
    "        program['VALUE'].append(assembly[data[0]]*0x10 + value)\n",
    "    \n",
    "    else:                                                    #Memory data, without a command\n",
    "      value = int(data[0], PROGRAM_LEN)\n",
    "      program['CODE'].append(f'0x{value:02X}')\n",
    "      program['VALUE'].append(value)\n",
    "\n",
    "printProgram()\n"
   ]
  },
  {
   "cell_type": "markdown",
   "metadata": {},
   "source": [
    "### Arduino part"
   ]
  },
  {
   "cell_type": "code",
   "execution_count": 68,
   "metadata": {},
   "outputs": [
    {
     "name": "stdout",
     "output_type": "stream",
     "text": [
      "Communication started\n"
     ]
    }
   ],
   "source": [
    "import pyfirmata\n",
    "import time\n",
    "\n",
    "board = pyfirmata.Arduino('/dev/ttyUSB0') #Change the port if the Arduino doesn't show up\n",
    "print('Communication started')\n",
    "\n",
    "address_pin = [board.digital[i] for i in [8,7,6,5]] #Pins for the memory address\n",
    "for pin in address_pin: pin.write(0)\n",
    "\n",
    "data_pin = board.digital[2]      #Shift register pins\n",
    "clock_pin = board.digital[3]\n",
    "latch_pin = board.digital[4]\n",
    "\n",
    "button_pin = board.digital[13]  #Pin that copies the temporary data inside the register, active LOW\n",
    "button_pin.write(1)\n"
   ]
  },
  {
   "cell_type": "markdown",
   "metadata": {},
   "source": [
    "### Arduino functions"
   ]
  },
  {
   "cell_type": "code",
   "execution_count": 69,
   "metadata": {},
   "outputs": [],
   "source": [
    "def set_address(address):\n",
    "  '''\n",
    "    Function to set the address\n",
    "  '''\n",
    "  for i in range(4):\n",
    "    bit = (address >> i) & 1\n",
    "    address_pin[i].write(bit)\n",
    "\n",
    "def send_byte(byte, bitOrder = 'MSBFIRST'): \n",
    "  '''\n",
    "    Function to send a byte \n",
    "  '''\n",
    "  latch_pin.write(0)  #Latch low so the writing doesn't affect the output\n",
    "  for i in range(8):\n",
    "    if (bitOrder == 'LSBFIRST'): #LSBFIRST\n",
    "      data_pin.write(byte >> i & 1) #Write the bit to the serial data line\n",
    "    else:                        #MSBFIRST\n",
    "      data_pin.write(byte >> 7-i & 1) \n",
    "\n",
    "    clock_pin.write(1)  #Clock signal to shift the data\n",
    "    clock_pin.write(0) \n",
    "\n",
    "  latch_pin.write(1)  #Latch high to change the output\n",
    "  time.sleep(0.01)  #Wait 10 ms\n",
    "  latch_pin.write(0)  #Latch low\n"
   ]
  },
  {
   "cell_type": "markdown",
   "metadata": {},
   "source": [
    "## Write the program by writing all the lines"
   ]
  },
  {
   "cell_type": "code",
   "execution_count": 70,
   "metadata": {},
   "outputs": [
    {
     "name": "stdout",
     "output_type": "stream",
     "text": [
      "Accessing memory address 0: 0000\n",
      "\tWriting the instruction LDI 0x1 : 01010001 \n",
      "Accessing memory address 1: 0001\n",
      "\tWriting the instruction STA 0xE : 01001110 \n",
      "Accessing memory address 2: 0010\n",
      "\tWriting the instruction LDI 0x0 : 01010000 \n",
      "Accessing memory address 3: 0011\n",
      "\tWriting the instruction OUT 0x0 : 11100000 \n",
      "Accessing memory address 4: 0100\n",
      "\tWriting the instruction ADD 0xE : 00101110 \n",
      "Accessing memory address 5: 0101\n",
      "\tWriting the instruction JC 0x0 : 01110000 \n",
      "Accessing memory address 6: 0110\n",
      "\tWriting the instruction STA 0xF : 01001111 \n",
      "Accessing memory address 7: 0111\n",
      "\tWriting the instruction LDI 0x1 : 01010001 \n",
      "Accessing memory address 8: 1000\n",
      "\tWriting the instruction ADD 0xE : 00101110 \n",
      "Accessing memory address 9: 1001\n",
      "\tWriting the instruction STA 0xE : 01001110 \n",
      "Accessing memory address 10: 1010\n",
      "\tWriting the instruction LDA 0xF : 00011111 \n",
      "Accessing memory address 11: 1011\n",
      "\tWriting the instruction JMP 0x3 : 01100011 \n",
      "Accessing memory address 12: 1100\n",
      "\tWriting the instruction 0x00 : 00000000 \n",
      "Accessing memory address 13: 1101\n",
      "\tWriting the instruction 0x00 : 00000000 \n",
      "Accessing memory address 14: 1110\n",
      "\tWriting the instruction 0x00 : 00000000 \n",
      "Accessing memory address 15: 1111\n",
      "\tWriting the instruction 0x00 : 00000000 \n"
     ]
    }
   ],
   "source": [
    "for i in range(PROGRAM_LEN):\n",
    "\n",
    "  set_address(i)\n",
    "  print(f'Accessing memory address {i}: {i:04b}')\n",
    "  send_byte(program['VALUE'][i], 'LSBFIRST')\n",
    "  print(f'\\tWriting the instruction {program[\"CODE\"][i]} : {program[\"VALUE\"][i]:08b} ')\n",
    "\n",
    "  button_pin.write(0) #copy the value in the memory\n",
    "  time.sleep(0.20)\n",
    "  button_pin.write(1)\n",
    "\n",
    "  time.sleep(0.1) #Wait before sending another line\n"
   ]
  }
 ],
 "metadata": {
  "kernelspec": {
   "display_name": "Python 3",
   "language": "python",
   "name": "python3"
  },
  "language_info": {
   "codemirror_mode": {
    "name": "ipython",
    "version": 3
   },
   "file_extension": ".py",
   "mimetype": "text/x-python",
   "name": "python",
   "nbconvert_exporter": "python",
   "pygments_lexer": "ipython3",
   "version": "3.10.12"
  }
 },
 "nbformat": 4,
 "nbformat_minor": 2
}
